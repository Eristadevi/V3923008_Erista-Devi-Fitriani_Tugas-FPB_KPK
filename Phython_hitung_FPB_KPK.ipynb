{
 "cells": [
  {
   "cell_type": "code",
   "execution_count": 5,
   "id": "29e0436f-287c-4035-bdcb-12fc8976387e",
   "metadata": {},
   "outputs": [
    {
     "name": "stdout",
     "output_type": "stream",
     "text": [
      "Pilih operasi:\n",
      "1. Hitung FPB\n",
      "2. Hitung KPK\n"
     ]
    },
    {
     "name": "stdin",
     "output_type": "stream",
     "text": [
      "Masukkan pilihan (1/2):  2\n",
      "Masukkan nilai A:  5\n",
      "Masukkan nilai B:  6\n"
     ]
    },
    {
     "name": "stdout",
     "output_type": "stream",
     "text": [
      "KPK dari 5 dan 6 adalah: 30\n"
     ]
    }
   ],
   "source": [
    "def hitung_fpb(a, b):\n",
    "    while b:\n",
    "        a, b = b, a % b\n",
    "    return a\n",
    "\n",
    "def hitung_kpk(a, b):\n",
    "    return abs(a * b) // hitung_fpb(a, b)\n",
    "\n",
    "def main():\n",
    "    print(\"Pilih operasi:\")\n",
    "    print(\"1. Hitung FPB\")\n",
    "    print(\"2. Hitung KPK\")\n",
    "\n",
    "    pilihan = input(\"Masukkan pilihan (1/2): \")\n",
    "\n",
    "    if pilihan == '1':\n",
    "        nilai_a = int(input(\"Masukkan nilai A: \"))\n",
    "        nilai_b = int(input(\"Masukkan nilai B: \"))\n",
    "        fpb = hitung_fpb(nilai_a, nilai_b)\n",
    "        print(f\"FPB dari {nilai_a} dan {nilai_b} adalah: {fpb}\")\n",
    "    \n",
    "    elif pilihan == '2':\n",
    "        nilai_a = int(input(\"Masukkan nilai A: \"))\n",
    "        nilai_b = int(input(\"Masukkan nilai B: \"))\n",
    "        kpk = hitung_kpk(nilai_a, nilai_b)\n",
    "        print(f\"KPK dari {nilai_a} dan {nilai_b} adalah: {kpk}\")\n",
    "    \n",
    "    else:\n",
    "        print(\"Pilihan tidak valid. Silakan pilih 1 atau 2.\")\n",
    "\n",
    "if __name__ == \"__main__\":\n",
    "    main()\n"
   ]
  },
  {
   "cell_type": "code",
   "execution_count": null,
   "id": "9ab5503b-0be8-4ba3-862a-f4e16193c655",
   "metadata": {},
   "outputs": [],
   "source": []
  }
 ],
 "metadata": {
  "kernelspec": {
   "display_name": "anaconda-panel-2023.05-py310",
   "language": "python",
   "name": "conda-env-anaconda-panel-2023.05-py310-py"
  },
  "language_info": {
   "codemirror_mode": {
    "name": "ipython",
    "version": 3
   },
   "file_extension": ".py",
   "mimetype": "text/x-python",
   "name": "python",
   "nbconvert_exporter": "python",
   "pygments_lexer": "ipython3",
   "version": "3.11.5"
  }
 },
 "nbformat": 4,
 "nbformat_minor": 5
}
